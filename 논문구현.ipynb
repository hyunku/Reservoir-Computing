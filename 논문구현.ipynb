{
  "nbformat": 4,
  "nbformat_minor": 0,
  "metadata": {
    "colab": {
      "provenance": [],
      "authorship_tag": "ABX9TyNviR7TUzchxEWlLnhgFm/y",
      "include_colab_link": true
    },
    "kernelspec": {
      "name": "python3",
      "display_name": "Python 3"
    },
    "language_info": {
      "name": "python"
    }
  },
  "cells": [
    {
      "cell_type": "markdown",
      "metadata": {
        "id": "view-in-github",
        "colab_type": "text"
      },
      "source": [
        "<a href=\"https://colab.research.google.com/github/hyunku/Reservoir-Computing/blob/main/%EB%85%BC%EB%AC%B8%EA%B5%AC%ED%98%84.ipynb\" target=\"_parent\"><img src=\"https://colab.research.google.com/assets/colab-badge.svg\" alt=\"Open In Colab\"/></a>"
      ]
    },
    {
      "cell_type": "markdown",
      "source": [
        "실시간으로 랜덤하게 연결된 1000개 뉴런 사용한 실험"
      ],
      "metadata": {
        "id": "bxfzC-g4y1wD"
      }
    },
    {
      "cell_type": "markdown",
      "source": [
        "본 논문에서는 실시간 1ms의 분해능으로 10000개(만개) 피질 뉴런, 1000000(백만개) 시냅스 연결(축삭돌기 가지) 로 실험"
      ],
      "metadata": {
        "id": "Yf21WzfczBsY"
      }
    },
    {
      "cell_type": "markdown",
      "source": [
        "흥분성 뉴런 : 억제성 뉴런 = 4:1 비율로 맞춰줌"
      ],
      "metadata": {
        "id": "JlJCLm7j4iya"
      }
    },
    {
      "cell_type": "code",
      "source": [
        "import random\n",
        "import numpy as np\n",
        "import math\n",
        "import matplotlib.pyplot as plt"
      ],
      "metadata": {
        "id": "olMcTHPHPLfq"
      },
      "execution_count": null,
      "outputs": []
    },
    {
      "cell_type": "code",
      "source": [
        "t = 1000 # ms\n",
        "use_neurons = 1000\n",
        "excitatory = int(math.ceil(use_neurons * 0.8)) # Ne\n",
        "inhibitory = int(math.ceil(use_neurons * 0.2)) # Ni"
      ],
      "metadata": {
        "id": "r8bG9iPq4vXH"
      },
      "execution_count": null,
      "outputs": []
    },
    {
      "cell_type": "code",
      "execution_count": null,
      "metadata": {
        "id": "TQklJbCPyoUg"
      },
      "outputs": [],
      "source": [
        "excitatory_matrix = np.random.rand(excitatory, 1) # re\n",
        "inhibitory_matrix = np.random.rand(inhibitory, 1) # ri"
      ]
    },
    {
      "cell_type": "code",
      "source": [
        "a = np.vstack((0.02*np.ones((excitatory,1)), 0.02+0.08*inhibitory_matrix))\n",
        "b = np.vstack((0.2*np.ones((excitatory,1)), 0.25-0.05*inhibitory_matrix))\n",
        "c = np.vstack((-65+15*(excitatory_matrix**2), -65*np.ones((inhibitory,1))))\n",
        "d = np.vstack((8-6*(excitatory_matrix**2), 2*np.ones((inhibitory,1))))\n",
        "S = np.hstack((0.5*np.random.rand(use_neurons, excitatory), -1*np.random.rand(use_neurons, inhibitory)))"
      ],
      "metadata": {
        "id": "BhddJQumPw4G"
      },
      "execution_count": null,
      "outputs": []
    },
    {
      "cell_type": "code",
      "source": [
        "v = -65*np.ones((use_neurons, 1)) # initial values of v\n",
        "u = np.multiply(b,v) # initial values of u\n",
        "firings = [] # spike timings"
      ],
      "metadata": {
        "id": "opvyJya8doLQ"
      },
      "execution_count": null,
      "outputs": []
    },
    {
      "cell_type": "code",
      "source": [
        "print(f'a shape: {a.shape}')\n",
        "print(f'b shape: {b.shape}')\n",
        "print(f'c shape: {c.shape}')\n",
        "print(f'd shape: {d.shape}')\n",
        "print(f'S shape: {S.shape}')\n",
        "print(f'v shape: {v.shape}')\n",
        "print(f'u shape: {u.shape}')"
      ],
      "metadata": {
        "colab": {
          "base_uri": "https://localhost:8080/"
        },
        "id": "sfO8SERK2ZmU",
        "outputId": "a327ba97-ee08-435c-fdbc-e2e9a91ce86d"
      },
      "execution_count": null,
      "outputs": [
        {
          "output_type": "stream",
          "name": "stdout",
          "text": [
            "a shape: (1000, 1)\n",
            "b shape: (1000, 1)\n",
            "c shape: (1000, 1)\n",
            "d shape: (1000, 1)\n",
            "S shape: (1000, 1000)\n",
            "v shape: (1000, 1)\n",
            "u shape: (1000, 1)\n"
          ]
        }
      ]
    },
    {
      "cell_type": "markdown",
      "source": [
        "vstack : 위아래 <br>\n",
        "hstack : 좌우"
      ],
      "metadata": {
        "id": "UiPwTlDiMHp1"
      }
    },
    {
      "cell_type": "code",
      "source": [
        "for i in range(1,t+1,1): # simulation of 1000ms\n",
        "  I = np.vstack((5*np.random.normal(excitatory, 1), 2*np.random.normal(inhibitory, 1))) # thalmic input\n",
        "  print(f'i shape: {I.shape}')\n",
        "  fired = np.where(v>=30)[0] # indices of spikes\n",
        "  print(len(fired))\n",
        "  if len(fired) == 0:\n",
        "    firings = np.vstack((firings,fired))\n",
        "    print(firings)\n",
        "    print(fired)\n",
        "  else:\n",
        "    ffff = [i+0*x for x in fired]\n",
        "    firings = np.vstack((firings, np.hstack((ffff, fired))))\n",
        "  # firings = np.vstack((firings, np.hstack((i+0*fired, fired))))\n",
        "  v[fired] = c[fired]\n",
        "  u[fired] = u[fired] + d[fired]\n",
        "  I = I + S[:,fired].sum(axis=1)\n",
        "  print(f'u shape: {u.shape}')\n",
        "  print(f'v shape: {v.shape}')\n",
        "  print(f'i shape: {I.shape}')\n",
        "  v = v+0.5*(0.04*(v**2)+5*v+140-u+I)\n",
        "  v = v+0.5*(0.04*(v**2)+5*v+140-u+I)\n",
        "  u = u+np.multiply(a,np.multiply(b, v-u))"
      ],
      "metadata": {
        "colab": {
          "base_uri": "https://localhost:8080/",
          "height": 377
        },
        "id": "GF5U0uBSeWpa",
        "outputId": "515a2eec-598e-4b14-9ece-80235f8ae87a"
      },
      "execution_count": null,
      "outputs": [
        {
          "output_type": "stream",
          "name": "stdout",
          "text": [
            "i shape: (2, 1)\n",
            "0\n",
            "[]\n",
            "[]\n",
            "u shape: (1000, 1)\n",
            "v shape: (1000, 1)\n",
            "i shape: (2, 1000)\n"
          ]
        },
        {
          "output_type": "error",
          "ename": "ValueError",
          "evalue": "ignored",
          "traceback": [
            "\u001b[0;31m---------------------------------------------------------------------------\u001b[0m",
            "\u001b[0;31mValueError\u001b[0m                                Traceback (most recent call last)",
            "\u001b[0;32m<ipython-input-104-88261c644a9e>\u001b[0m in \u001b[0;36m<module>\u001b[0;34m\u001b[0m\n\u001b[1;32m     18\u001b[0m   \u001b[0mprint\u001b[0m\u001b[0;34m(\u001b[0m\u001b[0;34mf'v shape: {v.shape}'\u001b[0m\u001b[0;34m)\u001b[0m\u001b[0;34m\u001b[0m\u001b[0;34m\u001b[0m\u001b[0m\n\u001b[1;32m     19\u001b[0m   \u001b[0mprint\u001b[0m\u001b[0;34m(\u001b[0m\u001b[0;34mf'i shape: {I.shape}'\u001b[0m\u001b[0;34m)\u001b[0m\u001b[0;34m\u001b[0m\u001b[0;34m\u001b[0m\u001b[0m\n\u001b[0;32m---> 20\u001b[0;31m   \u001b[0mv\u001b[0m \u001b[0;34m=\u001b[0m \u001b[0mv\u001b[0m\u001b[0;34m+\u001b[0m\u001b[0;36m0.5\u001b[0m\u001b[0;34m*\u001b[0m\u001b[0;34m(\u001b[0m\u001b[0;36m0.04\u001b[0m\u001b[0;34m*\u001b[0m\u001b[0;34m(\u001b[0m\u001b[0mv\u001b[0m\u001b[0;34m**\u001b[0m\u001b[0;36m2\u001b[0m\u001b[0;34m)\u001b[0m\u001b[0;34m+\u001b[0m\u001b[0;36m5\u001b[0m\u001b[0;34m*\u001b[0m\u001b[0mv\u001b[0m\u001b[0;34m+\u001b[0m\u001b[0;36m140\u001b[0m\u001b[0;34m-\u001b[0m\u001b[0mu\u001b[0m\u001b[0;34m+\u001b[0m\u001b[0mI\u001b[0m\u001b[0;34m)\u001b[0m\u001b[0;34m\u001b[0m\u001b[0;34m\u001b[0m\u001b[0m\n\u001b[0m\u001b[1;32m     21\u001b[0m   \u001b[0mv\u001b[0m \u001b[0;34m=\u001b[0m \u001b[0mv\u001b[0m\u001b[0;34m+\u001b[0m\u001b[0;36m0.5\u001b[0m\u001b[0;34m*\u001b[0m\u001b[0;34m(\u001b[0m\u001b[0;36m0.04\u001b[0m\u001b[0;34m*\u001b[0m\u001b[0;34m(\u001b[0m\u001b[0mv\u001b[0m\u001b[0;34m**\u001b[0m\u001b[0;36m2\u001b[0m\u001b[0;34m)\u001b[0m\u001b[0;34m+\u001b[0m\u001b[0;36m5\u001b[0m\u001b[0;34m*\u001b[0m\u001b[0mv\u001b[0m\u001b[0;34m+\u001b[0m\u001b[0;36m140\u001b[0m\u001b[0;34m-\u001b[0m\u001b[0mu\u001b[0m\u001b[0;34m+\u001b[0m\u001b[0mI\u001b[0m\u001b[0;34m)\u001b[0m\u001b[0;34m\u001b[0m\u001b[0;34m\u001b[0m\u001b[0m\n\u001b[1;32m     22\u001b[0m   \u001b[0mu\u001b[0m \u001b[0;34m=\u001b[0m \u001b[0mu\u001b[0m\u001b[0;34m+\u001b[0m\u001b[0mnp\u001b[0m\u001b[0;34m.\u001b[0m\u001b[0mmultiply\u001b[0m\u001b[0;34m(\u001b[0m\u001b[0ma\u001b[0m\u001b[0;34m,\u001b[0m\u001b[0mnp\u001b[0m\u001b[0;34m.\u001b[0m\u001b[0mmultiply\u001b[0m\u001b[0;34m(\u001b[0m\u001b[0mb\u001b[0m\u001b[0;34m,\u001b[0m \u001b[0mv\u001b[0m\u001b[0;34m-\u001b[0m\u001b[0mu\u001b[0m\u001b[0;34m)\u001b[0m\u001b[0;34m)\u001b[0m\u001b[0;34m\u001b[0m\u001b[0;34m\u001b[0m\u001b[0m\n",
            "\u001b[0;31mValueError\u001b[0m: operands could not be broadcast together with shapes (1000,1) (2,1000) "
          ]
        }
      ]
    },
    {
      "cell_type": "code",
      "source": [
        "plt.plot(firings.iloc[:,1], firings.iloc[:,2], '.')"
      ],
      "metadata": {
        "id": "_pdblZXl4UXF"
      },
      "execution_count": null,
      "outputs": []
    },
    {
      "cell_type": "code",
      "source": [],
      "metadata": {
        "id": "N56ui7XjSdjI"
      },
      "execution_count": null,
      "outputs": []
    }
  ]
}