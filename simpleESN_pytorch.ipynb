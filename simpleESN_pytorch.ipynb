{
  "nbformat": 4,
  "nbformat_minor": 0,
  "metadata": {
    "colab": {
      "provenance": [],
      "authorship_tag": "ABX9TyOA3LPmEtao2sSLkAJ/I7ix",
      "include_colab_link": true
    },
    "kernelspec": {
      "name": "python3",
      "display_name": "Python 3"
    },
    "language_info": {
      "name": "python"
    }
  },
  "cells": [
    {
      "cell_type": "markdown",
      "metadata": {
        "id": "view-in-github",
        "colab_type": "text"
      },
      "source": [
        "<a href=\"https://colab.research.google.com/github/hyunku/Reservoir-Computing/blob/main/simpleESN_pytorch.ipynb\" target=\"_parent\"><img src=\"https://colab.research.google.com/assets/colab-badge.svg\" alt=\"Open In Colab\"/></a>"
      ]
    },
    {
      "cell_type": "code",
      "source": [
        "from google.colab import drive\n",
        "drive.mount('/content/gdrive')"
      ],
      "metadata": {
        "colab": {
          "base_uri": "https://localhost:8080/"
        },
        "id": "Uk4LXaajnP2s",
        "outputId": "7eb27ce6-ffdc-44df-8827-bbf7653a111a"
      },
      "execution_count": null,
      "outputs": [
        {
          "output_type": "stream",
          "name": "stdout",
          "text": [
            "Mounted at /content/gdrive\n"
          ]
        }
      ]
    },
    {
      "cell_type": "markdown",
      "source": [
        "# simple ESN lower level coding"
      ],
      "metadata": {
        "id": "u2A44yy7uYRE"
      }
    },
    {
      "cell_type": "code",
      "source": [
        "# updating\n",
        "\n",
        "import pandas as pd\n",
        "import numpy as np\n",
        "from sklearn.model_selection import train_test_split\n",
        "import torch\n",
        "from torch import nn, optim\n",
        "from torch.utils.data import DataLoader, Dataset\n",
        "import torch.nn.functional as F\n",
        "from sklearn.metrics import mean_squared_error\n",
        "import matplotlib.pyplot as plt\n",
        "import sys\n",
        "\n",
        "# data = np.loadtxt('/content/gdrive/MyDrive/ReservoirComputing/MackeyGlass_t17.txt')\n",
        "\n",
        "# trainlen = 7000\n",
        "# future = 3000\n",
        "\n",
        "# X_train = np.ones(trainlen)\n",
        "# Y_train = data[:trainlen]\n",
        "# X_test = np.ones(future)\n",
        "# Y_test = data[trainlen:trainlen+future]\n",
        "\n",
        "# print(X_train.shape)\n",
        "# print(Y_train.shape)\n",
        "# print(X_test.shape)\n",
        "# print(Y_test.shape)\n",
        "\n",
        "device = torch.device('cuda')\n",
        "dtype = torch.float\n",
        "torch.set_default_dtype(dtype)\n",
        "\n",
        "if dtype == torch.double:\n",
        "    data = np.loadtxt('/content/gdrive/MyDrive/ReservoirComputing/mg17.csv', delimiter=',', dtype=np.float64)\n",
        "elif dtype == torch.float:\n",
        "    data = np.loadtxt('/content/gdrive/MyDrive/ReservoirComputing/mg17.csv', delimiter=',', dtype=np.float32)\n",
        "\n",
        "print(data.shape) # (10000,2)\n",
        "X_data = data[:,[0]]\n",
        "Y_data = data[:,[1]]\n",
        "# X_data = torch.from_numpy(X_data).to(device)\n",
        "# Y_data = torch.from_numpy(Y_data).to(device)\n",
        "\n",
        "# X_train = X_data[:5000]\n",
        "# Y_train = Y_data[:5000]\n",
        "# X_test = X_data[5000:]\n",
        "# Y_test = Y_data[5000:]\n",
        "\n",
        "X_train = torch.FloatTensor(X_data[:5000])\n",
        "Y_train = torch.FloatTensor(Y_data[:5000])\n",
        "X_test = torch.FloatTensor(X_data[5000:])\n",
        "Y_test = torch.FloatTensor(Y_data[5000:])\n",
        "\n",
        "\n",
        "print(X_train.shape)\n",
        "print(Y_train.shape)\n",
        "print(X_test.shape)\n",
        "print(Y_test.shape)\n",
        "\n",
        "# sys.exit()\n",
        "\n",
        "# class TensorData(Dataset): # 전처리(np->tensor 등등 작업)\n",
        "  \n",
        "#     def __init__(self, x_data, y_data):\n",
        "#         self.x_data = torch.FloatTensor(x_data) # float32\n",
        "#         self.y_data = torch.FloatTensor(y_data)\n",
        "#         self.len = self.y_data.shape[0]\n",
        "\n",
        "#     def __getitem__(self, index):\n",
        "#         return self.x_data[index], self.y_data[index] \n",
        "\n",
        "#     def __len__(self):\n",
        "#         return self.len\n",
        "\n",
        "\n",
        "# trainsets = TensorData(X_train, Y_train) # 전처리\n",
        "# trainloader = torch.utils.data.DataLoader(trainsets, batch_size=10, shuffle=False) # 배치처리, 셔플유무\n",
        "\n",
        "# testsets = TensorData(X_test, Y_test)\n",
        "# testloader = torch.utils.data.DataLoader(testsets, batch_size=10, shuffle=False)\n",
        "\n",
        "\n",
        "class ESN(torch.nn.Module):\n",
        "    def __init__(self, input_size, reservoir_size, output_size): # 인풋노드수, reservoir뉴런수, 출력층뉴런수\n",
        "        super(ESN, self).__init__()\n",
        "        self.input_size = input_size\n",
        "        self.reservoir_size = reservoir_size\n",
        "        self.output_size = output_size\n",
        "\n",
        "        # float32\n",
        "        self.w_in = torch.rand(input_size, reservoir_size, requires_grad=False) # (인풋노드수, 은닉노드수)\n",
        "        self.w_internal = torch.rand(reservoir_size, reservoir_size, requires_grad=False)\n",
        "        self.w_readout = torch.rand(output_size, requires_grad=False)\n",
        "\n",
        "    def _update(self, state, input_pattern, output_pattern): # reservoir 내부 뉴런 학습치 -> (1(이전데이터),res), (1(현재데이터),입력층 뉴런수)\n",
        "        preactivation = (torch.matmul(self.w_internal, state) # (res,res) matmul (1,res) -> (1,res) -> (res,) \n",
        "                             + torch.matmul(self.w_in.T, input_pattern) # (res, 입력층 뉴런수) matmul (1, 입력층 뉴런수) -> (1,res) -> (res,)\n",
        "                             + torch.matmul(self.w_readout.T, output_pattern))\n",
        "        return torch.tanh(preactivation) # 다음 reservoir 뉴런 학습치는 이전 단계의 reservoir 학습치와 현시점 인풋 데이터의 합에 활성함수를 씌워준 것.\n",
        "    \n",
        "    def fit(self, x_tr, y_tr_teacher): # train set으로 readout 가중치 학습\n",
        "      with torch.no_grad():\n",
        "        states = torch.zeros(x_tr.shape[0], self.reservoir_size, requires_grad=False) # 학습 과정 중 학습될 reservoir뉴런의 학습치 행렬, 우선 초기값 설정(학습 데이터 수, res)\n",
        "        for n in range(1, x_tr.shape[0]): # 학습 데이터 전체 돌면서\n",
        "          # reservoir뉴런 학습치 행렬에 학습 횟수마다 업데이트한 값으로 수정\n",
        "          states[n, :] = self._update(states[n - 1], x_tr[n, :], y_tr_teacher[n - 1, :]) # update((1(이전데이터),res), (1(현재데이터),입력층 뉴런수)) \n",
        "\n",
        "        transient = min(int(x_tr.shape[1] / 10), 100) # 10의 배수마다 삭제하는 뉴런 1개씩 증가. 단, 삭제 뉴런은 최대치 100개\n",
        "        extended_states = torch.cat([states, x_tr], dim=1) # (학습 데이터 수, res + 입력층 뉴런 수)\n",
        "        self.W_out = torch.matmul(torch.linalg.pinv(extended_states[transient:, :]), \n",
        "                                  torch.arctanh(y_tr_teacher[transient:, :])).T  # x = A.TT * y 로 가중치 매트릭스를 구함.\n",
        "        self.laststate = states[-1, :] # reservoir의 마지막 뉴런\n",
        "        self.lastinput = x_tr[-1, :] # (1(입력 데이터 마지막 row), 입력층 뉴런 수)\n",
        "        self.lastoutput = y_tr_teacher[-1, :] # (1(타겟 데이터 마지막 row), 출력층 뉴런 수)\n",
        "\n",
        "        pred_train = torch.tanh(torch.matmul(extended_states, self.W_out.T))\n",
        "\n",
        "        return pred_train\n",
        "\n",
        "    def forward(self, x): # x : input for prediction\n",
        "      with torch.no_grad():\n",
        "        n_samples = x.shape[0]\n",
        "\n",
        "        laststate = self.laststate\n",
        "        lastinput = self.lastinput\n",
        "        lastoutput = self.lastoutput\n",
        "\n",
        "        lastinput = lastinput.reshape(1, -1)\n",
        "        lastoutput = lastoutput.reshape(1, -1)\n",
        "        laststate = laststate.reshape(-1,self.reservoir_size)\n",
        "\n",
        "        inputs = torch.cat([lastinput, x], dim=0) # recurrent 한 구조를 띄고 있으므로 인풋으로 학습과정 마지막 데이터 1개가 필요함.\n",
        "        states = torch.cat([laststate, torch.zeros(n_samples, self.reservoir_size, requires_grad=False)], dim=0) # 학습과정 마지막 reservoir 뉴런 학습치에 이어서 사용\n",
        "        outputs = torch.cat([lastoutput, torch.zeros(n_samples, self.output_size, requires_grad=False)], dim=0) # 타겟 값으로 train셋의 마지막 타겟 값 1개 필요\n",
        "\n",
        "        for n in range(n_samples): # 예측할 새로운 데이터셋 전체를 돌면서\n",
        "            states[n + 1, :] = self._update(states[n, :], inputs[n + 1, :], outputs[n, :]) # 새로운 데이터에 맞게 reservoir뉴런 학습\n",
        "            outputs[n + 1, :] = torch.tanh(torch.matmul(self.W_out, # 새로운 데이터와 새로 학습한 reservoir뉴런 학습치를 이용하여 미래 예측\n",
        "                                                           torch.cat([states[n + 1, :], inputs[n + 1, :]], dim=0)))\n",
        "\n",
        "        prediction = torch.tanh(outputs[1:])\n",
        "        return prediction\n",
        "\n",
        "\n",
        "model = ESN(input_size=1, reservoir_size=300, output_size=1)\n",
        "Y_train_pred = model.fit(X_train, Y_train)\n",
        "Y_test_pred = model(X_test)"
      ],
      "metadata": {
        "id": "sYcxHEFQnMyd",
        "colab": {
          "base_uri": "https://localhost:8080/"
        },
        "outputId": "f3ce2535-75a5-4cd5-a309-5c3ebb46213f"
      },
      "execution_count": null,
      "outputs": [
        {
          "output_type": "stream",
          "name": "stdout",
          "text": [
            "(10000, 2)\n",
            "torch.Size([5000, 1])\n",
            "torch.Size([5000, 1])\n",
            "torch.Size([5000, 1])\n",
            "torch.Size([5000, 1])\n",
            "#######\n",
            "torch.Size([1, 300])\n",
            "torch.Size([5000, 300])\n"
          ]
        }
      ]
    },
    {
      "cell_type": "code",
      "source": [
        "Y_test_pred"
      ],
      "metadata": {
        "colab": {
          "base_uri": "https://localhost:8080/"
        },
        "id": "Zn6ejS1eLgQH",
        "outputId": "54a5baee-7bc0-408c-8770-626f4b63c033"
      },
      "execution_count": null,
      "outputs": [
        {
          "output_type": "execute_result",
          "data": {
            "text/plain": [
              "tensor([[nan],\n",
              "        [nan],\n",
              "        [nan],\n",
              "        ...,\n",
              "        [nan],\n",
              "        [nan],\n",
              "        [nan]])"
            ]
          },
          "metadata": {},
          "execution_count": 31
        }
      ]
    },
    {
      "cell_type": "markdown",
      "source": [
        "# 뭔 차이가 있을까?"
      ],
      "metadata": {
        "id": "oLwIx1xbMHec"
      }
    },
    {
      "cell_type": "code",
      "source": [
        "import torch\n",
        "import torch.nn as nn\n",
        "wt_in = torch.rand(3, 3, requires_grad=True) # (인풋노드수, 은닉노드수)\n",
        "wt_in_3 = torch.randn(3, 3, requires_grad=True) # (인풋노드수, 은닉노드수)\n",
        "Wt = torch.rand((3, 3), requires_grad=True) - 0.5 # W 차원 : (res,res)\n",
        "wtt_in = torch.rand(3, 3, requires_grad=True) - 0.5 # (인풋노드수, 은닉노드수)\n",
        "wt_in_2 = nn.Parameter(torch.rand(3, 3, requires_grad=False) - 0.5) # (인풋노드수, 은닉노드수)"
      ],
      "metadata": {
        "id": "1LaH8ZBTyBSn"
      },
      "execution_count": null,
      "outputs": []
    },
    {
      "cell_type": "code",
      "source": [
        "wt_in"
      ],
      "metadata": {
        "colab": {
          "base_uri": "https://localhost:8080/"
        },
        "id": "V04CHVGWyRll",
        "outputId": "bf244820-7999-4459-faba-17842db25920"
      },
      "execution_count": null,
      "outputs": [
        {
          "output_type": "execute_result",
          "data": {
            "text/plain": [
              "tensor([[0.6930, 0.1921, 0.0135],\n",
              "        [0.1325, 0.0442, 0.7458],\n",
              "        [0.2527, 0.1550, 0.5862]], requires_grad=True)"
            ]
          },
          "metadata": {},
          "execution_count": 8
        }
      ]
    },
    {
      "cell_type": "code",
      "source": [
        "Wt"
      ],
      "metadata": {
        "colab": {
          "base_uri": "https://localhost:8080/"
        },
        "id": "TCbz8xwoySjR",
        "outputId": "9240615c-639d-4356-9997-f18fd0269901"
      },
      "execution_count": null,
      "outputs": [
        {
          "output_type": "execute_result",
          "data": {
            "text/plain": [
              "tensor([[ 0.1092, -0.2201,  0.4233],\n",
              "        [ 0.2127,  0.2028, -0.3851],\n",
              "        [ 0.1294, -0.3301,  0.0204]], grad_fn=<SubBackward0>)"
            ]
          },
          "metadata": {},
          "execution_count": 9
        }
      ]
    },
    {
      "cell_type": "code",
      "source": [
        "wtt_in"
      ],
      "metadata": {
        "colab": {
          "base_uri": "https://localhost:8080/"
        },
        "id": "U-bT1kExyS2B",
        "outputId": "c0a86d19-aac7-4332-b75c-0c16bef85076"
      },
      "execution_count": null,
      "outputs": [
        {
          "output_type": "execute_result",
          "data": {
            "text/plain": [
              "tensor([[ 0.2086, -0.2312,  0.4765],\n",
              "        [-0.4961, -0.1206, -0.2593],\n",
              "        [-0.2860, -0.1568,  0.3108]], grad_fn=<SubBackward0>)"
            ]
          },
          "metadata": {},
          "execution_count": 11
        }
      ]
    },
    {
      "cell_type": "code",
      "source": [
        "wt_in_2"
      ],
      "metadata": {
        "colab": {
          "base_uri": "https://localhost:8080/"
        },
        "id": "63fnnCjgytR_",
        "outputId": "c1f3c412-b16c-44bb-bd7d-93a560533c1b"
      },
      "execution_count": null,
      "outputs": [
        {
          "output_type": "execute_result",
          "data": {
            "text/plain": [
              "Parameter containing:\n",
              "tensor([[-0.0704, -0.1815, -0.2770],\n",
              "        [-0.2413,  0.3127, -0.4227],\n",
              "        [-0.4626, -0.4496,  0.0164]], requires_grad=True)"
            ]
          },
          "metadata": {},
          "execution_count": 14
        }
      ]
    },
    {
      "cell_type": "code",
      "source": [
        "wt_in_3"
      ],
      "metadata": {
        "colab": {
          "base_uri": "https://localhost:8080/"
        },
        "id": "Mcubkc8f0iAZ",
        "outputId": "af34e458-3c78-4254-d50d-4cb8846eaf53"
      },
      "execution_count": null,
      "outputs": [
        {
          "output_type": "execute_result",
          "data": {
            "text/plain": [
              "tensor([[ 0.3990, -0.4212, -1.2875],\n",
              "        [ 0.5368, -0.5392,  1.8777],\n",
              "        [ 0.5941,  0.4109,  0.4391]], requires_grad=True)"
            ]
          },
          "metadata": {},
          "execution_count": 16
        }
      ]
    },
    {
      "cell_type": "markdown",
      "source": [
        "# SimpleESN into pytorch"
      ],
      "metadata": {
        "id": "dFp6Nhf96HJ6"
      }
    },
    {
      "cell_type": "code",
      "source": [
        "import matplotlib.pyplot as plt\n",
        "from scipy import linalg\n",
        "import sys\n",
        "import torch\n",
        "import torch.nn as nn\n",
        "import torch.nn.functional as F\n",
        "import numpy as np\n",
        "import sys\n",
        "# numpy.linalg is also an option for even fewer dependencies\n",
        "\n",
        "# load the data\n",
        "trainLen = 2000\n",
        "testLen = 2000\n",
        "initLen = 100\n",
        "data = np.loadtxt('/content/gdrive/MyDrive/ReservoirComputing/MackeyGlass_t17.txt')\n",
        "data = torch.from_numpy(data)\n",
        "print(data.shape)\n",
        "\n",
        "# plot some of it\n",
        "plt.figure(10).clear()\n",
        "plt.plot(data[:1000])\n",
        "plt.title('A sample of data')\n",
        "# sys.exit()\n",
        "\n",
        "# generate the ESN reservoir\n",
        "inSize = 1\n",
        "outSize = 1\n",
        "resSize = 1000\n",
        "a = 0.3 # leaking rate, reservoir 뉴런 값 수정률\n",
        "Win = nn.Parameter(torch.rand(resSize,1+inSize,requires_grad=False) - 0.5) # (1000, 2) 행렬 생성 -> (reservoir수, 인풋차원+1) -> +1 : bias 공간\n",
        "W = nn.Parameter(torch.rand(resSize,resSize, requires_grad=False) - 0.5) # (1000, 1000) 초기 가중치 행렬 생성(랜덤) -> (reservoir수, reservoir수) : reservoir 뉴런의 학습 가중치 행렬\n",
        "\n",
        "# normalizing and setting spectral radius (correct, slow):\n",
        "print('Computing spectral radius...')\n",
        "# rhoW = spectral radius\n",
        "rhoW = torch.max(torch.abs(torch.linalg.eig(W)[0])) # 가중치 행렬에서 고유값 추출 (각 뉴런 업데이트시 W에 곱해지는 강도(spectral radius)), W 행렬 1개당 1개 값 생성됌\n",
        "# reservoir 뉴런 개수인 resSize 가 90이라면 90 * 90 차원의 랜덤 행렬 생성후 고유값은 90개가 나옴.\n",
        "print('done.')\n",
        "# 가중치 업데이트 과정 -> 각 고유값을 weight_scaling 값으로 나눈 값으로 가중치를 업데이트함. -> weight_scaling은 가중치 학습률이다.\n",
        "W = W * (1.25 / rhoW)\n",
        "# W *= 1.25 / rhoW\n",
        "\n",
        "# allocated memory for the design (collected states) matrix - state matrix - reservoir 셀 값\n",
        "# X의 형태에서 row인 1002는 1회 학습시 업데이트될 인풋값(1회 학습하여 업데이트 된 X값은 세로방향으로 들어옴), 1900 col은 기록할 학습 횟수(총 학습 횟수 - 최소초기학습횟수) \n",
        "X = torch.zeros(1+inSize+resSize,trainLen-initLen) # (1002, 1900) 학습 데이터 행렬 초기 정의\n",
        "# set the corresponding target matrix directly\n",
        "Yt = data[None,initLen+1:trainLen+1]  # (1, 1900) -> 예측 데이터는 101번부터 2001번 index, Yt는 Y truth로 실제값\n",
        "\n",
        "# run the reservoir with the data and collect X\n",
        "x = torch.zeros(resSize,1) # (1000,1) , reservoir 뉴런이 갖고있는 값\n",
        "print(data[5])\n",
        "for t in range(trainLen): # train data 2000개만큼 돌면서(reservoir 뉴런의 학습 횟수)\n",
        "    u = data[t] # u에 t번째 데이터 할당 \n",
        "    # print(np.dot(Win, np.vstack((1,u))).shape) # (1000,2) 내적 (2,1) -> (1000,1) -> 인풋뉴런에 인풋 데이터 주입\n",
        "    # print(\"###\")\n",
        "    # print(np.dot(W,x).shape) # (1000,1000) 내적 (1000,1) -> (1000,1) -> 뉴런 내부값에 가중치 매트릭스 곱해서 업데이트\n",
        "    # print(\"###\")\n",
        "\n",
        "    # vstack : 위아래 결합 - dim=0, hstack : 좌우결합 - dim=1\n",
        "    # reservoir 뉴런 내부값 업데이트 과정, 활성함수 tanh사용\n",
        "    print(Win.shape)\n",
        "    uten = torch.Tensor([u])\n",
        "    print(uten.shape)\n",
        "    tttt = torch.Tensor([1])\n",
        "    print(tttt.shape)\n",
        "    print(torch.cat([tttt,uten], dim=0))\n",
        "    # print(torch.cat((1,u), dim=0))\n",
        "    # sys.exit()\n",
        "    x = (1-a)*x + a*torch.tanh( torch.matmul( Win, torch.cat([1,u], dim=0)) + torch.matmul( W, x ) ) # (1000,1) # vstack\n",
        "    # print(np.vstack((1,u,x)).shape) # (1002,1) 세로로된 리스트\n",
        "    # print(np.vstack((1,u,x))[:,0].shape) # (1002,) 가로로된 리스트\n",
        "    \n",
        "    # 학습횟수(2000번) 중에 최소초기학습횟수 넘어갈 때부터 학습데이터도 업데이트\n",
        "    if t >= initLen: # 최소초기학습횟수 넘어갈때부터 학습 데이터 업데이트(최소초기학습 횟수 이전까지는 reservoir 뉴런값, Weight matrix만 업데이트)\n",
        "        X[:,t-initLen] = torch.cat([1,u,x], dim=0)[:,0]\n",
        "\n",
        "\n",
        "# print(torch.dot(X, X.T).shape) # (1002,1002) -> 업데이트된 인풋행렬(X) 에서 각 요소 제곱하여 음수값 제거\n",
        "# print(torch.eye(1+inSize+resSize)) # (1002,1002) 의 대각행렬 생성(대각선만 1, 나머지 0) ->  행렬곱 진행 시 regularization 진행을 위한 행렬\n",
        "# print((torch.dot(X,X.T) + torch.eye(1+inSize+resSize)).shape) # (1002,1002) -> 제곱하여 음수값 제거한 인풋 행렬에 규제수치 곱해줌 -> 규제화한 예측값 행렬\n",
        "# print(torch.dot(X,Yt.T).shape) # (1002,1) -> 업데이트된 인풋 행렬(X, (1002,1900))과 예측값행렬(Yt.T(1900,1)) 의 내적 -> 학습 횟수당 실제값 행렬(ground truth)\n",
        "\n",
        "# train the output by ridge regression\n",
        "reg = 1e-8  # regularization coefficient\n",
        "# direct equations from texts:\n",
        "#X_T = X.T\n",
        "#Wout = np.dot( np.dot(Yt,X_T), linalg.inv( np.dot(X,X_T) + \\\n",
        "#    reg*np.eye(1+inSize+resSize) ) )\n",
        "# using scipy.linalg.solve:\n",
        "# 연립방정식에서 규제화한 예측값 행렬을 계수로 사용하고 학습 횟수당 실제값행렬을 실제값으로 사용하여 연립방정식의 해를 구함\n",
        "# 이때, 연립방정식의 해는 예측값에서 얼만큼의 가중치를 곱해줘야 실제값이 나오는지에서 가중치의 값을 의미함.\n",
        "Wout = torch.linalg.solve( torch.matmul(X,X.T) + reg*torch.eye(1+inSize+resSize), torch.matmul(X,Yt.T) ).T # (1,1002)\n",
        "\n",
        "\n",
        "# run the trained ESN in a generative mode. no need to initialize here, \n",
        "# because x is initialized with training data and we continue from there.\n",
        "Y = torch.zeros(outSize,testLen) # (1,2000)\n",
        "u = data[trainLen] # 학습에 사용한 데이터셋의 마지막 인덱스의 값\n",
        "print(u)\n",
        "# sys.exit() # debugging 용도로 사용한 코드\n",
        "for t in range(testLen): # 테스트 사이즈 2000번 돌면서\n",
        "    x = (1-a)*x + a*torch.tanh( torch.matmul( Win, torch.cat([1,u], dim=0)) + torch.matmul( W, x ) ) # 학습된 reservoir 뉴런들의 가중치\n",
        "    y = torch.matmul( Wout, torch.cat([1,u,x], dim=0) ) # (1,1002) 내적 (1002,1) -> 출력층으로 가는 weight값과 학습된 reservoir들의 가중치 내적(연결) -> 예측값 도출\n",
        "    Y[:,t] = y # 테스트셋의 인덱스 때마다 나온 결과 입력\n",
        "    # generative mode: # 테스트 모드\n",
        "    u = y # 예측값을 다음 테스트의 인풋으로 넣음\n",
        "    ## this would be a predictive mode: # 예측 모드 -> 둘중 하나 아무거나 사용해도 무방해보임\n",
        "    #u = data[trainLen+t+1] \n",
        "\n",
        "# compute MSE for the first errorLen time steps\n",
        "errorLen = 500\n",
        "mse = sum( torch.square( data[trainLen+1:trainLen+errorLen+1] - \n",
        "    Y[0,0:errorLen] ) ) / errorLen\n",
        "print('MSE = ' + str( mse ))\n",
        "    \n",
        "# plot some signals\n",
        "plt.figure(1).clear()\n",
        "plt.plot( data[trainLen+1:trainLen+testLen+1], 'g' )\n",
        "plt.plot( Y.T, 'b' )\n",
        "plt.title('Target and generated signals $y(n)$ starting at $n=0$')\n",
        "plt.legend(['Target signal', 'Free-running predicted signal'])\n",
        "\n",
        "plt.figure(2).clear()\n",
        "plt.plot( X[0:20,0:200].T )\n",
        "plt.title(r'Some reservoir activations $\\mathbf{x}(n)$')\n",
        "\n",
        "plt.figure(3).clear()\n",
        "plt.bar( torch.arange(1+inSize+resSize), Wout[0].T )\n",
        "plt.title(r'Output weights $\\mathbf{W}^{out}$')\n",
        "\n",
        "plt.show()"
      ],
      "metadata": {
        "id": "UkY1Gw1G1FtZ",
        "colab": {
          "base_uri": "https://localhost:8080/",
          "height": 664
        },
        "outputId": "2d6461b1-8acb-492a-f5a3-843b4611eeca"
      },
      "execution_count": null,
      "outputs": [
        {
          "output_type": "stream",
          "name": "stdout",
          "text": [
            "torch.Size([10000])\n",
            "Computing spectral radius...\n",
            "done.\n",
            "tensor(-0.1854, dtype=torch.float64)\n",
            "torch.Size([1000, 2])\n",
            "torch.Size([1])\n",
            "torch.Size([1])\n",
            "tensor([1.0000, 0.1221])\n"
          ]
        },
        {
          "output_type": "error",
          "ename": "TypeError",
          "evalue": "ignored",
          "traceback": [
            "\u001b[0;31m---------------------------------------------------------------------------\u001b[0m",
            "\u001b[0;31mTypeError\u001b[0m                                 Traceback (most recent call last)",
            "\u001b[0;32m<ipython-input-5-dd6e5ddc5e83>\u001b[0m in \u001b[0;36m<module>\u001b[0;34m\u001b[0m\n\u001b[1;32m     67\u001b[0m     \u001b[0;31m# print(torch.cat((1,u), dim=0))\u001b[0m\u001b[0;34m\u001b[0m\u001b[0;34m\u001b[0m\u001b[0;34m\u001b[0m\u001b[0m\n\u001b[1;32m     68\u001b[0m     \u001b[0;31m# sys.exit()\u001b[0m\u001b[0;34m\u001b[0m\u001b[0;34m\u001b[0m\u001b[0;34m\u001b[0m\u001b[0m\n\u001b[0;32m---> 69\u001b[0;31m     \u001b[0mx\u001b[0m \u001b[0;34m=\u001b[0m \u001b[0;34m(\u001b[0m\u001b[0;36m1\u001b[0m\u001b[0;34m-\u001b[0m\u001b[0ma\u001b[0m\u001b[0;34m)\u001b[0m\u001b[0;34m*\u001b[0m\u001b[0mx\u001b[0m \u001b[0;34m+\u001b[0m \u001b[0ma\u001b[0m\u001b[0;34m*\u001b[0m\u001b[0mtorch\u001b[0m\u001b[0;34m.\u001b[0m\u001b[0mtanh\u001b[0m\u001b[0;34m(\u001b[0m \u001b[0mtorch\u001b[0m\u001b[0;34m.\u001b[0m\u001b[0mmatmul\u001b[0m\u001b[0;34m(\u001b[0m \u001b[0mWin\u001b[0m\u001b[0;34m,\u001b[0m \u001b[0mtorch\u001b[0m\u001b[0;34m.\u001b[0m\u001b[0mcat\u001b[0m\u001b[0;34m(\u001b[0m\u001b[0;34m[\u001b[0m\u001b[0;36m1\u001b[0m\u001b[0;34m,\u001b[0m\u001b[0mu\u001b[0m\u001b[0;34m]\u001b[0m\u001b[0;34m,\u001b[0m \u001b[0mdim\u001b[0m\u001b[0;34m=\u001b[0m\u001b[0;36m0\u001b[0m\u001b[0;34m)\u001b[0m\u001b[0;34m)\u001b[0m \u001b[0;34m+\u001b[0m \u001b[0mtorch\u001b[0m\u001b[0;34m.\u001b[0m\u001b[0mmatmul\u001b[0m\u001b[0;34m(\u001b[0m \u001b[0mW\u001b[0m\u001b[0;34m,\u001b[0m \u001b[0mx\u001b[0m \u001b[0;34m)\u001b[0m \u001b[0;34m)\u001b[0m \u001b[0;31m# (1000,1) # vstack\u001b[0m\u001b[0;34m\u001b[0m\u001b[0;34m\u001b[0m\u001b[0m\n\u001b[0m\u001b[1;32m     70\u001b[0m     \u001b[0;31m# print(np.vstack((1,u,x)).shape) # (1002,1) 세로로된 리스트\u001b[0m\u001b[0;34m\u001b[0m\u001b[0;34m\u001b[0m\u001b[0;34m\u001b[0m\u001b[0m\n\u001b[1;32m     71\u001b[0m     \u001b[0;31m# print(np.vstack((1,u,x))[:,0].shape) # (1002,) 가로로된 리스트\u001b[0m\u001b[0;34m\u001b[0m\u001b[0;34m\u001b[0m\u001b[0;34m\u001b[0m\u001b[0m\n",
            "\u001b[0;31mTypeError\u001b[0m: expected Tensor as element 0 in argument 0, but got int"
          ]
        },
        {
          "output_type": "display_data",
          "data": {
            "text/plain": [
              "<Figure size 432x288 with 1 Axes>"
            ],
            "image/png": "[encoded data removed]"
          },
          "metadata": {
            "needs_background": "light"
          }
        }
      ]
    },
    {
      "cell_type": "code",
      "source": [],
      "metadata": {
        "id": "gMb36p4nZGU2"
      },
      "execution_count": null,
      "outputs": []
    }
  ]
}